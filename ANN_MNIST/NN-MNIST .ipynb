{
 "cells": [
  {
   "cell_type": "markdown",
   "metadata": {},
   "source": [
    "# Classifying Handwritten Digits\n",
    "\n",
    "This is based on Michael Nielsen's excellent resource for [Neural Networks and Deep Learning](http://neuralnetworksanddeeplearning.com/)\n",
    "\n",
    "[Here](https://github.com/MichalDanielDobrzanski/DeepLearningPython35) is the repository for python 3.5"
   ]
  },
  {
   "cell_type": "code",
   "execution_count": 2,
   "metadata": {
    "collapsed": true
   },
   "outputs": [],
   "source": [
    "#for some super optimized linear algebra awesomeness\n",
    "import numpy as np"
   ]
  },
  {
   "cell_type": "markdown",
   "metadata": {},
   "source": [
    "Notes:\n",
    "\n",
    "- np.random.randn(x,y) returns a sample or samples from the STANDARD normal distribution (*x* samples of size *y*)"
   ]
  },
  {
   "cell_type": "code",
   "execution_count": 4,
   "metadata": {},
   "outputs": [
    {
     "data": {
      "text/plain": [
       "array([[-0.74237008,  3.38031077],\n",
       "       [-1.75173073,  0.55174585],\n",
       "       [-0.51987533,  1.47199017]])"
      ]
     },
     "execution_count": 4,
     "metadata": {},
     "output_type": "execute_result"
    }
   ],
   "source": [
    "np.random.randn(3,2)"
   ]
  },
  {
   "cell_type": "code",
   "execution_count": 5,
   "metadata": {
    "collapsed": true
   },
   "outputs": [],
   "source": [
    "#the class for the neural network (the centerpiece if you will)\n",
    "class ANN(object): #ANN = Artificial Neural Network\n",
    "    \n",
    "    def __init__(self,sizes):\n",
    "        self.num_layers = len(sizes)\n",
    "        self.sizes = sizes\n",
    "        #notice that we start at index 1, not 0, because we\n",
    "        #don't have weights and biases for the input (first) layer\n",
    "        self.biases = [np.random.randn(y,1) for y in sizes[1:]]\n",
    "        self.weights = [np.random.randn(y,x)\n",
    "                        for x,y in zip(sizes[:-1],sizes[1:])]\n",
    "        "
   ]
  },
  {
   "cell_type": "markdown",
   "metadata": {},
   "source": [
    "Note: weight and biases are randomly generated"
   ]
  },
  {
   "cell_type": "code",
   "execution_count": 10,
   "metadata": {},
   "outputs": [
    {
     "name": "stdout",
     "output_type": "stream",
     "text": [
      "Dimensions:\n",
      " [2, 3, 1] \n",
      "Weights:\n",
      " [array([[ 0.22514781, -0.43718813],\n",
      "       [-0.34823231, -0.46069777],\n",
      "       [-0.31738479, -0.99871921]]), array([[ 0.41350034, -0.46781151,  0.01758159]])] \n",
      "Biases:\n",
      " [array([[-0.89777646],\n",
      "       [ 0.83062583],\n",
      "       [ 0.55823026]]), array([[-0.97299425]])]\n"
     ]
    }
   ],
   "source": [
    "#network with 2 input neurons, 3 hidden neurons, 1 output neuron\n",
    "net = ANN([2,3,1])\n",
    "print('Dimensions:\\n',net.sizes,'\\nWeights:\\n',net.weights,'\\nBiases:\\n',net.biases)"
   ]
  },
  {
   "cell_type": "code",
   "execution_count": 15,
   "metadata": {},
   "outputs": [
    {
     "data": {
      "text/plain": [
       "array([[ 0.41350034, -0.46781151,  0.01758159]])"
      ]
     },
     "execution_count": 15,
     "metadata": {},
     "output_type": "execute_result"
    }
   ],
   "source": [
    "net.weights[1]"
   ]
  },
  {
   "cell_type": "markdown",
   "metadata": {},
   "source": [
    "Next we'll define our sigmoid function\n",
    "\n",
    "Just like a perceptron, the sigmoid neuron has inputs, x1,x2,…x1,x2,…. But instead of being just 00 or 11, these inputs can also take on any values between 00 and 11. So, for instance, 0.638…0.638… is a valid input for a sigmoid neuron. Also just like a perceptron, the sigmoid neuron has weights for each input, w1,w2,…w1,w2,…, and an overall bias, bb. But the output is not 00 or 11. Instead, it's $σ(w⋅x+b)σ(w⋅x+b)$, where σσ is called the sigmoid function* *Incidentally, σσ is sometimes called the logistic function, and this new class of neurons called logistic neurons. It's useful to remember this terminology, since these terms are used by many people working with neural nets."
   ]
  },
  {
   "cell_type": "code",
   "execution_count": 14,
   "metadata": {
    "collapsed": true
   },
   "outputs": [],
   "source": [
    "#define a sigmoid function\n",
    "def sigmoid(z):\n",
    "    return 1 / (1 + np.exp(-z))"
   ]
  },
  {
   "cell_type": "code",
   "execution_count": 21,
   "metadata": {},
   "outputs": [
    {
     "data": {
      "text/plain": [
       "4.5397868702434395e-05"
      ]
     },
     "execution_count": 21,
     "metadata": {},
     "output_type": "execute_result"
    }
   ],
   "source": [
    "sigmoid(-10)"
   ]
  },
  {
   "cell_type": "markdown",
   "metadata": {},
   "source": [
    "Now we'll add the feed forward method to our network which, given an input a for the network, returns the corresponding output. (It applies $a′=σ(wa+b)$ to each layer )"
   ]
  },
  {
   "cell_type": "code",
   "execution_count": null,
   "metadata": {
    "collapsed": true
   },
   "outputs": [],
   "source": [
    "def feedforward(self,a):\n",
    "    \"\"\"\n",
    "    Return the output of the network if \"a\" is input.\n",
    "    \"\"\"\n",
    "    for b, w in zip(self.biases,self.weights):\n",
    "        a = sigmoid(np.dot(w,a)+b)\n",
    "    return a"
   ]
  },
  {
   "cell_type": "code",
   "execution_count": 31,
   "metadata": {},
   "outputs": [
    {
     "name": "stdout",
     "output_type": "stream",
     "text": [
      "[array([[ 0.22514781, -0.43718813],\n",
      "       [-0.34823231, -0.46069777],\n",
      "       [-0.31738479, -0.99871921]]), array([[ 0.41350034, -0.46781151,  0.01758159]])]\n",
      "[array([[-0.89777646],\n",
      "       [ 0.83062583],\n",
      "       [ 0.55823026]]), array([[-0.97299425]])]\n"
     ]
    }
   ],
   "source": [
    "print((net.weights))\n",
    "print((net.biases))"
   ]
  },
  {
   "cell_type": "code",
   "execution_count": 30,
   "metadata": {},
   "outputs": [
    {
     "name": "stdout",
     "output_type": "stream",
     "text": [
      "1 [[ 0.22514781 -0.43718813]\n",
      " [-0.34823231 -0.46069777]\n",
      " [-0.31738479 -0.99871921]] [[-0.89777646]\n",
      " [ 0.83062583]\n",
      " [ 0.55823026]]\n",
      "2 [[ 0.41350034 -0.46781151  0.01758159]] [[-0.97299425]]\n"
     ]
    }
   ],
   "source": [
    "cnt = 0\n",
    "for w,b in zip(net.weights,net.biases):\n",
    "    cnt +=1 \n",
    "    print(cnt,w,b)"
   ]
  },
  {
   "cell_type": "markdown",
   "metadata": {},
   "source": [
    "For the network to learn, we will implement a Stochastic Gradient Descent method.\n",
    "\n",
    "The code works as follows. In each epoch, it starts by randomly shuffling the training data, and then partitions it into mini-batches of the appropriate size. This is an easy way of sampling randomly from the training data. Then for each mini_batch we apply a single step of gradient descent. This is done by the code self.update_mini_batch(mini_batch, eta), which updates the network weights and biases according to a single iteration of gradient descent, using just the training data in mini_batch."
   ]
  },
  {
   "cell_type": "code",
   "execution_count": 32,
   "metadata": {
    "collapsed": true
   },
   "outputs": [],
   "source": [
    "def SGD(self, training_data,epochs,mini_batch_size,\n",
    "        eta,test_data=None):\n",
    "    \"\"\"\n",
    "    Train the neural network using mini-batch stochastic\n",
    "    gradient descent.  The \"training_data\" is a list of tuples\n",
    "    \"(x, y)\" representing the training inputs and the desired\n",
    "    outputs. Eta is the learning rate. The other non-optional parameters are\n",
    "    self-explanatory.  If \"test_data\" is provided then the\n",
    "    network will be evaluated against the test data after each\n",
    "    epoch, and partial progress printed out.  This is useful for\n",
    "    tracking progress, but slows things down substantially.\n",
    "    \"\"\"\n",
    "    if test_data: n_test = len(test_data)\n",
    "    n = len(training_data)\n",
    "    for j in range(epochs):\n",
    "        random.shuffle(training_data)#shuffles the order of the data\n",
    "        \n",
    "        mini_batches = [\n",
    "            training_data[k:k+mini_batch_size]\n",
    "            for k in range(0,n,mini_batch_size)\n",
    "        ]\n",
    "    for mini_batch in mini_batches:\n",
    "        self.update_mini_batch(mini_batch,eta)\n",
    "    if test_data:\n",
    "        print(\"Epoch {0}: {1} / {2}\".format(\n",
    "        j,self.evaluate(test_data),n_test))\n",
    "    else:\n",
    "        print(\"Epoch {0} complete\".format(j))\n",
    "    "
   ]
  },
  {
   "cell_type": "markdown",
   "metadata": {},
   "source": [
    "Next we'll write up the code for updating the mini_batches"
   ]
  },
  {
   "cell_type": "code",
   "execution_count": 33,
   "metadata": {
    "collapsed": true
   },
   "outputs": [],
   "source": [
    "def update_mini_batch(self,mini_batch,eta):\n",
    "    \"\"\"\n",
    "    Update the network's weights and biases by applying\n",
    "    gradient descent using backpropagation to a single mini batch.\n",
    "    The \"mini_batch\" is a list of tuples \"(x, y)\", and \"eta\"\n",
    "    is the learning rate.\n",
    "    \"\"\"\n",
    "    nabla_b = [np.zeros(b.shape) for b in self.biases]\n",
    "    nabla_w = [np.zeros(w.shape) for w in self.weights]\n",
    "    for x,y in mini_batch:\n",
    "        # vvv this line does most of the work vvv\n",
    "        delta_nabla_b, delta_nabla_w = self.backprop(x,y)\n",
    "        \n",
    "        nabla_b = [nb+dnb for nb,dnb in zip(nabla_b,delta_nabla_b)]\n",
    "        nabla_w = [nw+dnw for nw,dnw in zip(nabla_w,delta_nabla_w)]\n",
    "        \n",
    "        self.weights([w-(eta/len(mini_batch))*nw\n",
    "                     for w,nw in zip(self.weights,nabla_w)])\n",
    "        self.biases([b-(eta/len(mini_batch))*nb\n",
    "                     for b,nb in zip(self.biases,nabla_b)])"
   ]
  },
  {
   "cell_type": "code",
   "execution_count": 35,
   "metadata": {},
   "outputs": [],
   "source": [
    "###non-explained, last minute functions\n",
    "def sigmoid_prime(z):\n",
    "    \"\"\"Derivative of the sigmoid function.\"\"\"\n",
    "    return sigmoid(z)*(1-sigmoid(z))\n",
    "\n",
    "def backprop(self, x, y):\n",
    "        \"\"\"Return a tuple ``(nabla_b, nabla_w)`` representing the\n",
    "        gradient for the cost function C_x.  ``nabla_b`` and\n",
    "        ``nabla_w`` are layer-by-layer lists of numpy arrays, similar\n",
    "        to ``self.biases`` and ``self.weights``.\"\"\"\n",
    "        nabla_b = [np.zeros(b.shape) for b in self.biases]\n",
    "        nabla_w = [np.zeros(w.shape) for w in self.weights]\n",
    "        # feedforward\n",
    "        activation = x\n",
    "        activations = [x] # list to store all the activations, layer by layer\n",
    "        zs = [] # list to store all the z vectors, layer by layer\n",
    "        for b, w in zip(self.biases, self.weights):\n",
    "            z = np.dot(w, activation)+b\n",
    "            zs.append(z)\n",
    "            activation = sigmoid(z)\n",
    "            activations.append(activation)\n",
    "        # backward pass\n",
    "        delta = self.cost_derivative(activations[-1], y) * \\\n",
    "            sigmoid_prime(zs[-1])\n",
    "        nabla_b[-1] = delta\n",
    "        nabla_w[-1] = np.dot(delta, activations[-2].transpose())\n",
    "        # Note that the variable l in the loop below is used a little\n",
    "        # differently to the notation in Chapter 2 of the book.  Here,\n",
    "        # l = 1 means the last layer of neurons, l = 2 is the\n",
    "        # second-last layer, and so on.  It's a renumbering of the\n",
    "        # scheme in the book, used here to take advantage of the fact\n",
    "        # that Python can use negative indices in lists.\n",
    "        for l in xrange(2, self.num_layers):\n",
    "            z = zs[-l]\n",
    "            sp = sigmoid_prime(z)\n",
    "            delta = np.dot(self.weights[-l+1].transpose(), delta) * sp\n",
    "            nabla_b[-l] = delta\n",
    "            nabla_w[-l] = np.dot(delta, activations[-l-1].transpose())\n",
    "        return (nabla_b, nabla_w)\n",
    "\n",
    "def evaluate(self, test_data):\n",
    "    \"\"\"Return the number of test inputs for which the neural\n",
    "    network outputs the correct result. Note that the neural\n",
    "    network's output is assumed to be the index of whichever\n",
    "    neuron in the final layer has the highest activation.\"\"\"\n",
    "    test_results = [(np.argmax(self.feedforward(x)), y)\n",
    "                    for (x, y) in test_data]\n",
    "    return sum(int(x == y) for (x, y) in test_results)\n",
    "\n",
    "def cost_derivative(self, output_activations, y):\n",
    "    \"\"\"Return the vector of partial derivatives \\partial C_x /\n",
    "    \\partial a for the output activations.\"\"\"\n",
    "    return (output_activations-y)"
   ]
  },
  {
   "cell_type": "code",
   "execution_count": 39,
   "metadata": {},
   "outputs": [],
   "source": [
    "\n",
    "from sklearn.datasets import load_digits\n",
    "digits = load_digits()"
   ]
  },
  {
   "cell_type": "code",
   "execution_count": 41,
   "metadata": {},
   "outputs": [
    {
     "data": {
      "text/plain": [
       "<matplotlib.figure.Figure at 0x7ff56306aba8>"
      ]
     },
     "metadata": {},
     "output_type": "display_data"
    },
    {
     "data": {
      "image/png": "[encoded data removed]",
      "text/plain": [
       "<matplotlib.figure.Figure at 0x7ff56306acc0>"
      ]
     },
     "metadata": {},
     "output_type": "display_data"
    }
   ],
   "source": [
    "import pylab as pl\n",
    "pl.gray()\n",
    "pl.matshow(digits.images[0])\n",
    "pl.show()"
   ]
  },
  {
   "cell_type": "code",
   "execution_count": 42,
   "metadata": {},
   "outputs": [
    {
     "data": {
      "text/plain": [
       "array([[  0.,   0.,   5.,  13.,   9.,   1.,   0.,   0.],\n",
       "       [  0.,   0.,  13.,  15.,  10.,  15.,   5.,   0.],\n",
       "       [  0.,   3.,  15.,   2.,   0.,  11.,   8.,   0.],\n",
       "       [  0.,   4.,  12.,   0.,   0.,   8.,   8.,   0.],\n",
       "       [  0.,   5.,   8.,   0.,   0.,   9.,   8.,   0.],\n",
       "       [  0.,   4.,  11.,   0.,   1.,  12.,   7.,   0.],\n",
       "       [  0.,   2.,  14.,   5.,  10.,  12.,   0.,   0.],\n",
       "       [  0.,   0.,   6.,  13.,  10.,   0.,   0.,   0.]])"
      ]
     },
     "execution_count": 42,
     "metadata": {},
     "output_type": "execute_result"
    }
   ],
   "source": [
    "digits.images[0]"
   ]
  },
  {
   "cell_type": "code",
   "execution_count": 43,
   "metadata": {},
   "outputs": [
    {
     "ename": "ModuleNotFoundError",
     "evalue": "No module named 'ANN'",
     "output_type": "error",
     "traceback": [
      "\u001b[0;31m---------------------------------------------------------------------------\u001b[0m",
      "\u001b[0;31mModuleNotFoundError\u001b[0m                       Traceback (most recent call last)",
      "\u001b[0;32m<ipython-input-43-92bbe8c1696c>\u001b[0m in \u001b[0;36m<module>\u001b[0;34m()\u001b[0m\n\u001b[0;32m----> 1\u001b[0;31m \u001b[0;32mimport\u001b[0m \u001b[0mANN\u001b[0m\u001b[0;34m\u001b[0m\u001b[0m\n\u001b[0m",
      "\u001b[0;31mModuleNotFoundError\u001b[0m: No module named 'ANN'"
     ]
    }
   ],
   "source": [
    "import ANN"
   ]
  },
  {
   "cell_type": "code",
   "execution_count": null,
   "metadata": {
    "collapsed": true
   },
   "outputs": [],
   "source": []
  },
  {
   "cell_type": "code",
   "execution_count": null,
   "metadata": {
    "collapsed": true
   },
   "outputs": [],
   "source": []
  },
  {
   "cell_type": "code",
   "execution_count": null,
   "metadata": {
    "collapsed": true
   },
   "outputs": [],
   "source": []
  },
  {
   "cell_type": "code",
   "execution_count": null,
   "metadata": {
    "collapsed": true
   },
   "outputs": [],
   "source": []
  },
  {
   "cell_type": "code",
   "execution_count": null,
   "metadata": {
    "collapsed": true
   },
   "outputs": [],
   "source": []
  }
 ],
 "metadata": {
  "kernelspec": {
   "display_name": "Python 3",
   "language": "python",
   "name": "python3"
  },
  "language_info": {
   "codemirror_mode": {
    "name": "ipython",
    "version": 3
   },
   "file_extension": ".py",
   "mimetype": "text/x-python",
   "name": "python",
   "nbconvert_exporter": "python",
   "pygments_lexer": "ipython3",
   "version": "3.6.1"
  }
 },
 "nbformat": 4,
 "nbformat_minor": 1
}
