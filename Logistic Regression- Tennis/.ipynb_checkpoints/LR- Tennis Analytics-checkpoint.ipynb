{
 "cells": [
  {
   "cell_type": "markdown",
   "metadata": {},
   "source": [
    "# Logistic Regression\n",
    "Tennis Data"
   ]
  },
  {
   "cell_type": "code",
   "execution_count": 1,
   "metadata": {
    "collapsed": true
   },
   "outputs": [],
   "source": [
    "import pandas as pd\n",
    "import numpy as np\n",
    "from matplotlib import pyplot as pp\n",
    "%matplotlib inline"
   ]
  },
  {
   "cell_type": "code",
   "execution_count": 6,
   "metadata": {
    "collapsed": false
   },
   "outputs": [
    {
     "data": {
      "text/html": [
       "<div>\n",
       "<table border=\"1\" class=\"dataframe\">\n",
       "  <thead>\n",
       "    <tr style=\"text-align: right;\">\n",
       "      <th></th>\n",
       "      <th>Player1</th>\n",
       "      <th>Player2</th>\n",
       "      <th>Result</th>\n",
       "      <th>FSP</th>\n",
       "      <th>FSW</th>\n",
       "      <th>SSP</th>\n",
       "      <th>SSW</th>\n",
       "      <th>ACE</th>\n",
       "      <th>DBF</th>\n",
       "      <th>NPA</th>\n",
       "      <th>NPW</th>\n",
       "    </tr>\n",
       "  </thead>\n",
       "  <tbody>\n",
       "    <tr>\n",
       "      <th>0</th>\n",
       "      <td>Richard Gasquet</td>\n",
       "      <td>Michael Russell</td>\n",
       "      <td>1</td>\n",
       "      <td>63</td>\n",
       "      <td>55</td>\n",
       "      <td>64</td>\n",
       "      <td>16</td>\n",
       "      <td>7</td>\n",
       "      <td>7</td>\n",
       "      <td>6</td>\n",
       "      <td>59</td>\n",
       "    </tr>\n",
       "    <tr>\n",
       "      <th>1</th>\n",
       "      <td>Stephane Robert</td>\n",
       "      <td>Albano Olivetti</td>\n",
       "      <td>1</td>\n",
       "      <td>61</td>\n",
       "      <td>56</td>\n",
       "      <td>77</td>\n",
       "      <td>19</td>\n",
       "      <td>3</td>\n",
       "      <td>2</td>\n",
       "      <td>6</td>\n",
       "      <td>56</td>\n",
       "    </tr>\n",
       "    <tr>\n",
       "      <th>2</th>\n",
       "      <td>Jan-Lennard Struff</td>\n",
       "      <td>Guillaume Rufin</td>\n",
       "      <td>0</td>\n",
       "      <td>55</td>\n",
       "      <td>39</td>\n",
       "      <td>47</td>\n",
       "      <td>32</td>\n",
       "      <td>11</td>\n",
       "      <td>13</td>\n",
       "      <td>3</td>\n",
       "      <td>55</td>\n",
       "    </tr>\n",
       "    <tr>\n",
       "      <th>3</th>\n",
       "      <td>Aljaz Bedene</td>\n",
       "      <td>Dmitry Tursunov</td>\n",
       "      <td>0</td>\n",
       "      <td>52</td>\n",
       "      <td>59</td>\n",
       "      <td>39</td>\n",
       "      <td>19</td>\n",
       "      <td>13</td>\n",
       "      <td>8</td>\n",
       "      <td>6</td>\n",
       "      <td>55</td>\n",
       "    </tr>\n",
       "    <tr>\n",
       "      <th>4</th>\n",
       "      <td>Feliciano Lopez</td>\n",
       "      <td>Florent Serra</td>\n",
       "      <td>1</td>\n",
       "      <td>58</td>\n",
       "      <td>46</td>\n",
       "      <td>50</td>\n",
       "      <td>30</td>\n",
       "      <td>21</td>\n",
       "      <td>3</td>\n",
       "      <td>6</td>\n",
       "      <td>61</td>\n",
       "    </tr>\n",
       "  </tbody>\n",
       "</table>\n",
       "</div>"
      ],
      "text/plain": [
       "              Player1          Player2  Result  FSP  FSW  SSP  SSW  ACE  DBF  \\\n",
       "0     Richard Gasquet  Michael Russell       1   63   55   64   16    7    7   \n",
       "1     Stephane Robert  Albano Olivetti       1   61   56   77   19    3    2   \n",
       "2  Jan-Lennard Struff  Guillaume Rufin       0   55   39   47   32   11   13   \n",
       "3        Aljaz Bedene  Dmitry Tursunov       0   52   59   39   19   13    8   \n",
       "4     Feliciano Lopez    Florent Serra       1   58   46   50   30   21    3   \n",
       "\n",
       "   NPA  NPW  \n",
       "0    6   59  \n",
       "1    6   56  \n",
       "2    3   55  \n",
       "3    6   55  \n",
       "4    6   61  "
      ]
     },
     "execution_count": 6,
     "metadata": {},
     "output_type": "execute_result"
    }
   ],
   "source": [
    "#read in the data\n",
    "td = pd.read_csv('Tennis data.csv')\n",
    "td.head(5)"
   ]
  },
  {
   "cell_type": "code",
   "execution_count": null,
   "metadata": {
    "collapsed": true
   },
   "outputs": [],
   "source": []
  }
 ],
 "metadata": {
  "kernelspec": {
   "display_name": "Python 3",
   "language": "python",
   "name": "python3"
  },
  "language_info": {
   "codemirror_mode": {
    "name": "ipython",
    "version": 3
   },
   "file_extension": ".py",
   "mimetype": "text/x-python",
   "name": "python",
   "nbconvert_exporter": "python",
   "pygments_lexer": "ipython3",
   "version": "3.5.2"
  }
 },
 "nbformat": 4,
 "nbformat_minor": 0
}
