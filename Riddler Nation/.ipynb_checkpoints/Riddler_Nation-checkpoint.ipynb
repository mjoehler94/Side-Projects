{
 "cells": [
  {
   "cell_type": "markdown",
   "metadata": {},
   "source": [
    "Riddler Nation\n",
    "=======\n",
    "A Machine Learning Approach\n",
    "-----------------------------\n",
    "\n",
    "In a distant, war-torn land, there are 10 castles. There are two warlords: you and your archenemy. Each castle has its own strategic value for a would-be conqueror. Specifically, the castles are worth 1, 2, 3, …, 9, and 10 victory points. You and your enemy each have 100 soldiers to distribute, any way you like, to fight at any of the 10 castles. Whoever sends more soldiers to a given castle conquers that castle and wins its victory points. If you each send the same number of troops, you split the points. You don’t know what distribution of forces your enemy has chosen until the battles begin. Whoever wins the most points wins the war."
   ]
  },
  {
   "cell_type": "code",
   "execution_count": 1,
   "metadata": {},
   "outputs": [],
   "source": [
    "#import libraries\n",
    "import numpy as np\n",
    "from matplotlib import pyplot as pp\n",
    "%matplotlib inline"
   ]
  },
  {
   "cell_type": "code",
   "execution_count": 81,
   "metadata": {
    "collapsed": true
   },
   "outputs": [],
   "source": [
    "#randomly allocate soldiers among the castles\n",
    "def random_army():\n",
    "    '''\n",
    "    returns an array of length 10 indicating how many soldiers\n",
    "    to place at each castle \n",
    "    '''\n",
    "    rand_arrangement = np.random.randint(0,10,100)\n",
    "    army = np.zeros(10)\n",
    "    for i in rand_arrangement:\n",
    "        army[i] +=1\n",
    "    return army"
   ]
  },
  {
   "cell_type": "code",
   "execution_count": 82,
   "metadata": {},
   "outputs": [
    {
     "name": "stdout",
     "output_type": "stream",
     "text": [
      "Castle 1: 15.0\n",
      "Castle 2: 10.0\n",
      "Castle 3: 6.0\n",
      "Castle 4: 3.0\n",
      "Castle 5: 5.0\n",
      "Castle 6: 10.0\n",
      "Castle 7: 14.0\n",
      "Castle 8: 14.0\n",
      "Castle 9: 16.0\n",
      "Castle 10: 7.0\n",
      "Total Soldiers: 100.0\n"
     ]
    },
    {
     "data": {
      "text/plain": [
       "array([ 15.,  10.,   6.,   3.,   5.,  10.,  14.,  14.,  16.,   7.])"
      ]
     },
     "execution_count": 82,
     "metadata": {},
     "output_type": "execute_result"
    }
   ],
   "source": [
    "example_army = random_army()\n",
    "for i in range(1,11):\n",
    "    print(\"Castle %d:\" %i, example_army[i-1])\n",
    "print(\"Total Soldiers:\",sum(example_army))\n",
    "example_army"
   ]
  },
  {
   "cell_type": "code",
   "execution_count": 119,
   "metadata": {},
   "outputs": [],
   "source": [
    "#simulates the battle and records results\n",
    "#machine learner is army1\n",
    "#opponent is army2\n",
    "def battle(army1,army2,verbose = False):\n",
    "    #sanity checks\n",
    "    if len(army1) != len(army2) and len(army1) != 10:\n",
    "        print(\"Invalid Entry (Size)\")\n",
    "        return None\n",
    "    if sum(army1) != sum(army2) and sum(army1) != 100:\n",
    "        print(\"Invalid Entry (Length)\")\n",
    "        return None\n",
    "    \n",
    "    #loop through castles and allocate points    \n",
    "    points1 = 0\n",
    "    points2 = 0\n",
    "    outcome = None\n",
    "    for i in range(0,len(army1)):\n",
    "        if army1[i] > army2[i]:\n",
    "            points1 += i+1\n",
    "        elif army1[i] < army2[i]:\n",
    "             points2 += i+1\n",
    "        else:\n",
    "            points1 += ((i+1) / 2)\n",
    "            points2 += ((i+1) / 2)\n",
    "    if verbose:\n",
    "        print(\"points1:\",points1,\"\\npoints2:\",points2)\n",
    "    if points1 > points2:\n",
    "        outcome = 1\n",
    "        if verbose:\n",
    "            print(\"Army1 Wins!\")\n",
    "    elif points1 < points2:\n",
    "        outcome = -1\n",
    "        if verbose:\n",
    "            print(\"Army2 Wins!\")\n",
    "    else:\n",
    "        outcome = 0\n",
    "        if verbose:\n",
    "            print(\"Tie\")\n",
    "    return outcome"
   ]
  },
  {
   "cell_type": "code",
   "execution_count": 127,
   "metadata": {},
   "outputs": [
    {
     "name": "stdout",
     "output_type": "stream",
     "text": [
      "1 10 10 100.0 100 \n",
      " [  8.   7.  13.   6.   9.   9.  12.  12.  13.  11.] \n",
      " [10, 10, 10, 10, 10, 10, 10, 10, 10, 10]\n"
     ]
    }
   ],
   "source": [
    "# a1 = random_army()\n",
    "# a2 = random_army()\n",
    "a1 = random_army()\n",
    "a2 = [10,10,10,10,10,10,10,10,10,10]\n",
    "bat = battle(a1,a2)\n",
    "\n",
    "print(bat,len(a1),len(a2),sum(a1),sum(a2),'\\n',a1,'\\n',a2)"
   ]
  },
  {
   "cell_type": "markdown",
   "metadata": {},
   "source": [
    "### Scratch Code"
   ]
  },
  {
   "cell_type": "code",
   "execution_count": 126,
   "metadata": {},
   "outputs": [],
   "source": [
    "# #track results over time\n",
    "# nbattles = 10000\n",
    "# machine = [10,10,10,10,10,10,10,10,10,10]\n",
    "# machine_record = {'W':0,'T':0,'L':0}\n",
    "# # random_record = {'W':0,'T':0,'L':0}\n",
    "# res_dict = {1:'W',0:'T',-1:'L'}\n",
    "# for i in range(0,nbattles):\n",
    "#     bat = battle(machine,random_army())\n",
    "#     machine_record[res_dict[bat]] += 1\n",
    "# total = 0\n",
    "# for j in machine_record:\n",
    "#     total += machine_record[j]\n",
    "# print(machine_record,total)"
   ]
  },
  {
   "cell_type": "code",
   "execution_count": 89,
   "metadata": {},
   "outputs": [
    {
     "name": "stdout",
     "output_type": "stream",
     "text": [
      "my fav number is: 2\n"
     ]
    }
   ],
   "source": [
    "blah = 2\n",
    "print(\"my fav number is: %d\" % blah)"
   ]
  },
  {
   "cell_type": "code",
   "execution_count": 106,
   "metadata": {},
   "outputs": [],
   "source": [
    "from prettytable import PrettyTable\n",
    "\n",
    "def makePrettyTable(table_col1, table_col2, table_col3):\n",
    "    table = PrettyTable()\n",
    "    table.add_column(\"Column-1\", table_col1)\n",
    "    table.add_column(\"Column-2\", table_col2)\n",
    "    table.add_column(\"Column-3\", table_col3)\n",
    "    return table\n"
   ]
  },
  {
   "cell_type": "code",
   "execution_count": 109,
   "metadata": {},
   "outputs": [
    {
     "name": "stdout",
     "output_type": "stream",
     "text": [
      "+----------+----------+----------+\n",
      "| Column-1 | Column-2 | Column-3 |\n",
      "+----------+----------+----------+\n",
      "|    1     |   9.0    |    10    |\n",
      "|    2     |   8.0    |    10    |\n",
      "|    3     |   10.0   |    10    |\n",
      "|    4     |   16.0   |    10    |\n",
      "|    5     |   10.0   |    10    |\n",
      "|    6     |   4.0    |    10    |\n",
      "|    7     |   12.0   |    10    |\n",
      "|    8     |   8.0    |    10    |\n",
      "|    9     |   14.0   |    10    |\n",
      "|    10    |   9.0    |    10    |\n",
      "+----------+----------+----------+\n"
     ]
    }
   ],
   "source": [
    "print(makePrettyTable([1,2,3,4,5,6,7,8,9,10],a1,a2))"
   ]
  }
 ],
 "metadata": {
  "kernelspec": {
   "display_name": "Python 3",
   "language": "python",
   "name": "python3"
  },
  "language_info": {
   "codemirror_mode": {
    "name": "ipython",
    "version": 3
   },
   "file_extension": ".py",
   "mimetype": "text/x-python",
   "name": "python",
   "nbconvert_exporter": "python",
   "pygments_lexer": "ipython3",
   "version": "3.6.1"
  }
 },
 "nbformat": 4,
 "nbformat_minor": 1
}
