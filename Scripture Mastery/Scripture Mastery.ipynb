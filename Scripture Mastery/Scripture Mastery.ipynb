{
 "cells": [
  {
   "cell_type": "markdown",
   "metadata": {},
   "source": [
    "# Scripture Mastery Finder\n",
    "- given scripture mastery verses and verses I like, can it find 'good' verses"
   ]
  },
  {
   "cell_type": "code",
   "execution_count": 2,
   "metadata": {
    "collapsed": false
   },
   "outputs": [],
   "source": [
    "import pandas as pd\n",
    "import numpy as np\n",
    "import matplotlib\n",
    "import string\n",
    "import os\n",
    "%matplotlib inline"
   ]
  },
  {
   "cell_type": "markdown",
   "metadata": {},
   "source": [
    "for each verse I want: volume, book, reference, text, length of verse(num of words), # of buzzwords"
   ]
  },
  {
   "cell_type": "code",
   "execution_count": 9,
   "metadata": {
    "collapsed": false
   },
   "outputs": [],
   "source": [
    "# for filename in os.listdir(os.getcwd()):\n",
    "i = 0\n",
    "j = 0\n",
    "all_verses = []#master list\n",
    "names = ['volume','book','reference','text']#df columns headers\n",
    "all_verses.extend(names)\n",
    "\n",
    "volumes = ['bible','bom','dnc','pofgp']\n",
    "\n",
    "file = open('bible/01.genesis','r')\n",
    "scrip = file.readlines()\n",
    "file.close()\n",
    "volume = volumes[i]\n",
    "book = scrip[j]\n",
    "# for obj in gen:\n",
    "#     book = obj[0:3]\n",
    "    \n",
    "#     print(verse)"
   ]
  },
  {
   "cell_type": "code",
   "execution_count": 11,
   "metadata": {
    "collapsed": false
   },
   "outputs": [
    {
     "data": {
      "text/plain": [
       "['pofgp',\n",
       " 'dnc',\n",
       " '.ipynb_checkpoints',\n",
       " 'bom',\n",
       " 'Scripture Mastery.ipynb',\n",
       " 'bible']"
      ]
     },
     "execution_count": 11,
     "metadata": {},
     "output_type": "execute_result"
    }
   ],
   "source": [
    "#gets needed values\n",
    "# print(volume,book)\n",
    "os.listdir(os.getcwd())"
   ]
  },
  {
   "cell_type": "code",
   "execution_count": 4,
   "metadata": {
    "collapsed": false
   },
   "outputs": [
    {
     "name": "stdout",
     "output_type": "stream",
     "text": [
      "GEN 1:1 In the beginning God created the heaven and the earth.\n",
      "\n",
      "GEN 11 In the beginning God created the heaven and the earth\n",
      "\n"
     ]
    }
   ],
   "source": [
    "print(gen[0])\n",
    "new_str = ''\n",
    "for x in gen[0]:\n",
    "    if x not in string.punctuation:\n",
    "        new_str = new_str + x\n",
    "    else:\n",
    "        new_str = new_str + ''\n",
    "print(new_str)"
   ]
  },
  {
   "cell_type": "code",
   "execution_count": 6,
   "metadata": {
    "collapsed": false
   },
   "outputs": [
    {
     "data": {
      "text/plain": [
       "'GEN 11 In the beginning God created the heaven and the earth\\n'"
      ]
     },
     "execution_count": 6,
     "metadata": {},
     "output_type": "execute_result"
    }
   ],
   "source": [
    "translator = gen[0].maketrans('','',string.punctuation)\n",
    "gen[0].translate(translator)"
   ]
  },
  {
   "cell_type": "code",
   "execution_count": 58,
   "metadata": {
    "collapsed": false
   },
   "outputs": [
    {
     "data": {
      "text/plain": [
       "''"
      ]
     },
     "execution_count": 58,
     "metadata": {},
     "output_type": "execute_result"
    }
   ],
   "source": []
  }
 ],
 "metadata": {
  "kernelspec": {
   "display_name": "Python [Root]",
   "language": "python",
   "name": "Python [Root]"
  },
  "language_info": {
   "codemirror_mode": {
    "name": "ipython",
    "version": 3
   },
   "file_extension": ".py",
   "mimetype": "text/x-python",
   "name": "python",
   "nbconvert_exporter": "python",
   "pygments_lexer": "ipython3",
   "version": "3.5.2"
  }
 },
 "nbformat": 4,
 "nbformat_minor": 0
}
